{
 "cells": [
  {
   "cell_type": "markdown",
   "metadata": {},
   "source": [
    "# Weather data is processed in this notebook."
   ]
  },
  {
   "cell_type": "markdown",
   "metadata": {},
   "source": [
    "I am using 2 csv files which I downloaded from https://openweathermap.org.\n",
    "The files have hourly value records.\n",
    "The files 'Skg_Wheather_History_1997_2021.csv' are essentially the history of the weather of Thessaloniki for the period 1997 until July 2021.\n",
    "While the file 'Skg_Wheather_History_2021_2022.csv' is the weather history from August 2021 to January 2022."
   ]
  },
  {
   "cell_type": "code",
   "execution_count": 1,
   "metadata": {},
   "outputs": [],
   "source": [
    "import pandas as pd\n",
    "Project_Path='Local Path'\n"
   ]
  },
  {
   "cell_type": "markdown",
   "metadata": {},
   "source": [
    "I read and convert the files as a DataFrame and keep only the columns I need.\n",
    "- 'dt_iso' is the DateTime of each recording.\n",
    "- 'temp' is the temperature in degrees Celsius\n",
    "- 'Humidity' is the hydration expressed in values from 0 to 100\n",
    "In the data there were a few duplicate entries, I deleted them as I will then use the 'dt_iso' column as a key to merge\n",
    "Then I merged the two DataFrames into one."
   ]
  },
  {
   "cell_type": "code",
   "execution_count": 17,
   "metadata": {},
   "outputs": [],
   "source": [
    "Weather_Data_Part_1 = pd.read_csv(Project_Path+ '/Data/OpenWheather/Skg_Wheather_History_2016_2021.csv', sep=';',low_memory=False)\n",
    "Weather_Data_Part_2 = pd.read_csv(Project_Path+ '/Data/OpenWheather/Skg_Wheather_History_2021_2022.csv', sep=',',low_memory=False)\n",
    "\n",
    "Weather_Data_Part_1=Weather_Data_Part_1[[\"dt_iso\", \"temp\",\"humidity\"]]\n",
    "Weather_Data_Part_2=Weather_Data_Part_2[[\"dt_iso\", \"temp\",\"humidity\"]]\n",
    "\n",
    "Weather_Data_Part_1.drop_duplicates(subset =\"dt_iso\",\n",
    "                     keep ='first', inplace = True)\n",
    "Weather_Data_Part_2.drop_duplicates(subset =\"dt_iso\",\n",
    "                     keep ='first', inplace = True)\n",
    "\n",
    "Weather_Data = pd.concat([Weather_Data_Part_1, Weather_Data_Part_2],ignore_index=True)"
   ]
  },
  {
   "cell_type": "markdown",
   "metadata": {},
   "source": [
    "Then I convert the format of the values of column 'dt_iso'\n",
    "from <1979-01-01 00:00:00 +0000 UTC> to <1979-01-01 00:00> and name this new column 'Key'.\n",
    "I am doing this conversion because I will use the 'Key' to merge the weather data with the rest of the data afterwards."
   ]
  },
  {
   "cell_type": "code",
   "execution_count": 18,
   "metadata": {},
   "outputs": [],
   "source": [
    "Final_Weather_Data=Weather_Data[[\"dt_iso\", \"temp\",\"humidity\"]]\n",
    "Weather_List=Final_Weather_Data.values.tolist()\n",
    "Dt=[]\n",
    "for i in range (0,len(Weather_List)):\n",
    "    Dt.append(Weather_List[i][0].split(' '))\n",
    "Date_Df = pd.DataFrame(Dt, columns=[\"Date\",\"Time\",\"Np1\",\"Np2\"])\n",
    "\n",
    "Time_List=Date_Df['Time'].values.tolist()\n",
    "Time=[]\n",
    "for i in range (0,len(Time_List)):\n",
    "    String=str(Time_List[i])\n",
    "    X=String[0:5]\n",
    "    Time.append(X)\n",
    "\n",
    "Final_Weather_Data.insert(0, \"Date\", Date_Df['Date'], True)\n",
    "Final_Weather_Data.insert(1, \"Time\", Time, True)\n",
    "Final_Weather_Data=Final_Weather_Data.drop(['dt_iso'], axis=1)\n",
    "\n",
    "Final_Weather_Data['Key']=Final_Weather_Data['Date'].map(str)+ ' ' +Final_Weather_Data['Time'].map(str)\n",
    "Final_Weather_Data=Final_Weather_Data.drop(['Time'], axis=1)\n",
    "Final_Weather_Data=Final_Weather_Data.drop(['Date'], axis=1)"
   ]
  },
  {
   "cell_type": "markdown",
   "metadata": {},
   "source": [
    "I keep the hourly values of temperature and humidity only for the time I need"
   ]
  },
  {
   "cell_type": "code",
   "execution_count": 19,
   "metadata": {},
   "outputs": [],
   "source": [
    "Final_Weather_Data = Final_Weather_Data[~(Final_Weather_Data['Key'] < '2017-12-31')]\n",
    "Final_Weather_Data = Final_Weather_Data[~(Final_Weather_Data['Key'] >= '2021-10-02')]\n",
    "Final_Weather_Data=Final_Weather_Data.reset_index()\n",
    "Final_Weather_Data=Final_Weather_Data.drop(['index'], axis=1)\n",
    "\n",
    "Final_Weather_Data['temp']=Final_Weather_Data['temp'].astype(float)\n",
    "Final_Weather_Data['humidity']=Final_Weather_Data['humidity'].astype(float)"
   ]
  },
  {
   "cell_type": "markdown",
   "metadata": {},
   "source": [
    "I convert the temperature and humidity values so that the values for a particular hour are the 6 hour average.\n",
    "The 6 hours I use to get the average time is the time I have for the previous 5.\n",
    "I then save the Dataframe 'Final_Weather_Data' to use later"
   ]
  },
  {
   "cell_type": "code",
   "execution_count": 21,
   "metadata": {},
   "outputs": [
    {
     "data": {
      "text/html": [
       "<div>\n",
       "<style scoped>\n",
       "    .dataframe tbody tr th:only-of-type {\n",
       "        vertical-align: middle;\n",
       "    }\n",
       "\n",
       "    .dataframe tbody tr th {\n",
       "        vertical-align: top;\n",
       "    }\n",
       "\n",
       "    .dataframe thead th {\n",
       "        text-align: right;\n",
       "    }\n",
       "</style>\n",
       "<table border=\"1\" class=\"dataframe\">\n",
       "  <thead>\n",
       "    <tr style=\"text-align: right;\">\n",
       "      <th></th>\n",
       "      <th>Key</th>\n",
       "      <th>temp</th>\n",
       "      <th>humidity</th>\n",
       "    </tr>\n",
       "  </thead>\n",
       "  <tbody>\n",
       "    <tr>\n",
       "      <th>0</th>\n",
       "      <td>2017-12-31 00:00</td>\n",
       "      <td>5.96000</td>\n",
       "      <td>49.000</td>\n",
       "    </tr>\n",
       "    <tr>\n",
       "      <th>1</th>\n",
       "      <td>2017-12-31 01:00</td>\n",
       "      <td>5.78000</td>\n",
       "      <td>45.000</td>\n",
       "    </tr>\n",
       "    <tr>\n",
       "      <th>2</th>\n",
       "      <td>2017-12-31 02:00</td>\n",
       "      <td>5.51000</td>\n",
       "      <td>45.000</td>\n",
       "    </tr>\n",
       "    <tr>\n",
       "      <th>3</th>\n",
       "      <td>2017-12-31 03:00</td>\n",
       "      <td>5.31000</td>\n",
       "      <td>43.000</td>\n",
       "    </tr>\n",
       "    <tr>\n",
       "      <th>4</th>\n",
       "      <td>2017-12-31 04:00</td>\n",
       "      <td>4.57000</td>\n",
       "      <td>52.000</td>\n",
       "    </tr>\n",
       "    <tr>\n",
       "      <th>...</th>\n",
       "      <td>...</td>\n",
       "      <td>...</td>\n",
       "      <td>...</td>\n",
       "    </tr>\n",
       "    <tr>\n",
       "      <th>32899</th>\n",
       "      <td>2021-10-01 19:00</td>\n",
       "      <td>13.73500</td>\n",
       "      <td>49.000</td>\n",
       "    </tr>\n",
       "    <tr>\n",
       "      <th>32900</th>\n",
       "      <td>2021-10-01 20:00</td>\n",
       "      <td>13.34875</td>\n",
       "      <td>51.125</td>\n",
       "    </tr>\n",
       "    <tr>\n",
       "      <th>32901</th>\n",
       "      <td>2021-10-01 21:00</td>\n",
       "      <td>13.01375</td>\n",
       "      <td>51.250</td>\n",
       "    </tr>\n",
       "    <tr>\n",
       "      <th>32902</th>\n",
       "      <td>2021-10-01 22:00</td>\n",
       "      <td>12.75750</td>\n",
       "      <td>50.250</td>\n",
       "    </tr>\n",
       "    <tr>\n",
       "      <th>32903</th>\n",
       "      <td>2021-10-01 23:00</td>\n",
       "      <td>12.61250</td>\n",
       "      <td>48.500</td>\n",
       "    </tr>\n",
       "  </tbody>\n",
       "</table>\n",
       "<p>32904 rows × 3 columns</p>\n",
       "</div>"
      ],
      "text/plain": [
       "                    Key      temp  humidity\n",
       "0      2017-12-31 00:00   5.96000    49.000\n",
       "1      2017-12-31 01:00   5.78000    45.000\n",
       "2      2017-12-31 02:00   5.51000    45.000\n",
       "3      2017-12-31 03:00   5.31000    43.000\n",
       "4      2017-12-31 04:00   4.57000    52.000\n",
       "...                 ...       ...       ...\n",
       "32899  2021-10-01 19:00  13.73500    49.000\n",
       "32900  2021-10-01 20:00  13.34875    51.125\n",
       "32901  2021-10-01 21:00  13.01375    51.250\n",
       "32902  2021-10-01 22:00  12.75750    50.250\n",
       "32903  2021-10-01 23:00  12.61250    48.500\n",
       "\n",
       "[32904 rows x 3 columns]"
      ]
     },
     "execution_count": 21,
     "metadata": {},
     "output_type": "execute_result"
    }
   ],
   "source": [
    "List=Final_Weather_Data.values.tolist()\n",
    "New_Temp=[]\n",
    "New_Humidity=[]\n",
    "Index_List=[0,1,2,3,4] \n",
    "for i in range(0,len(List)):\n",
    "    Temp_Sum=0\n",
    "    Humidity_Sum=0\n",
    "    Humidity_Sum=0\n",
    "    # For the first 4 hourly values of the DataFrame since I don't know the previous ones\n",
    "    # I leave as is. Also, I don't need them at the specific times given the data\n",
    "    # starts from January 1, 2018\n",
    "    if i in Index_List:\n",
    "        New_Temp.append(List[i][0])\n",
    "        New_Humidity.append(List[i][1])  \n",
    "    else:\n",
    "        for j in range (0,6):\n",
    "            Temp_Sum=Temp_Sum+List[i-j][0]\n",
    "            Humidity_Sum=Humidity_Sum+List[i-j][1]\n",
    "        \n",
    "        New_Temp.append(Temp_Sum/8)\n",
    "        New_Humidity.append(Humidity_Sum/8)\n",
    "\n",
    "\n",
    "Final_Weather_Data=Final_Weather_Data.drop(['humidity'], axis=1)\n",
    "Final_Weather_Data=Final_Weather_Data.drop(['temp'], axis=1)\n",
    "Final_Weather_Data.insert(1, \"temp\", New_Temp, True)\n",
    "Final_Weather_Data.insert(2, \"humidity\", New_Humidity, True)  \n",
    "\n",
    "\n",
    "Final_Weather_Data.to_csv(Project_Path+ '/Data/Final_Weather_Data.csv')\n",
    "Final_Weather_Data"
   ]
  },
  {
   "cell_type": "code",
   "execution_count": null,
   "metadata": {},
   "outputs": [],
   "source": []
  }
 ],
 "metadata": {
  "kernelspec": {
   "display_name": "firstEnv",
   "language": "python",
   "name": "firstenv"
  },
  "language_info": {
   "codemirror_mode": {
    "name": "ipython",
    "version": 3
   },
   "file_extension": ".py",
   "mimetype": "text/x-python",
   "name": "python",
   "nbconvert_exporter": "python",
   "pygments_lexer": "ipython3",
   "version": "3.8.12"
  }
 },
 "nbformat": 4,
 "nbformat_minor": 1
}