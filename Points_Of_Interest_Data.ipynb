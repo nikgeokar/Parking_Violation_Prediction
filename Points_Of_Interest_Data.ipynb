{
 "cells": [
  {
   "cell_type": "markdown",
   "metadata": {},
   "source": [
    "# In this notebook I create a dataframe with 19 points of interest of Thessaloniki"
   ]
  },
  {
   "cell_type": "code",
   "execution_count": null,
   "metadata": {},
   "outputs": [],
   "source": [
    "# Basic Analysis and Visualization\n",
    "import pandas as pd\n",
    "from geopy.geocoders import Nominatim\n",
    "import geopy.distance\n",
    "import folium\n",
    "Project_Path='Local Path'"
   ]
  },
  {
   "cell_type": "markdown",
   "metadata": {},
   "source": [
    "The file 'Points_of_Interest.txt' contains the names of 19 points of interest as well as their addresses. For some points there was no clear address so I put their coordinates.\n",
    "I am loading the file 'Points_of_Interest.txt' into the Dataframe 'Points_Of_Interest'."
   ]
  },
  {
   "cell_type": "code",
   "execution_count": null,
   "metadata": {},
   "outputs": [],
   "source": [
    "Points_Of_Interest=pd.read_csv(Project_Path+ '/Data/Points_of_Interest.txt',sep='-',names=['Point','Adress'])\n",
    "Point_Adresses = Points_Of_Interest['Adress'].values.tolist()\n",
    "Point_Names = Points_Of_Interest['Point'].values.tolist()"
   ]
  },
  {
   "cell_type": "markdown",
   "metadata": {},
   "source": [
    "With the help of geopy I use the addresses and find the coordinates\n",
    "of 19 points. I then create and save the DataFrame 'Sights.csv', which contains the names and coordinates."
   ]
  },
  {
   "cell_type": "code",
   "execution_count": null,
   "metadata": {},
   "outputs": [],
   "source": [
    "Sights_List=[]\n",
    "for i in range (0,len(Point_Adresses)):\n",
    "    address=Point_Adresses[i]\n",
    "    geolocator = Nominatim(user_agent=\"Skg_Point_Of_Iterest\")\n",
    "    location = geolocator.geocode(address)\n",
    "    Sights_List.append([Point_Names[i],location.latitude,location.longitude]) \n",
    "    \n",
    "Sights = pd.DataFrame (Sights_List, columns = ['Sight','Latitude','Longitude'])\n",
    "Sights.to_csv(Project_Path+ '/Data/Sights.csv')\n",
    "Sights"
   ]
  },
  {
   "cell_type": "markdown",
   "metadata": {},
   "source": [
    "I use folium to print a map of the city showing the Points Of Interest, Each circle corresponds to a Sight. If you select a circle the name from that particular Sight will appear."
   ]
  },
  {
   "cell_type": "code",
   "execution_count": null,
   "metadata": {
    "scrolled": true
   },
   "outputs": [],
   "source": [
    "Map_Points_Of_Interest = folium.Map([40.632778, 22.946944],tiles=\"OpenStreetMap\", zoom_start=15)\n",
    "for i in range(0,len(Sights_List)):\n",
    "    folium.CircleMarker(location= [Sights_List[i][1],Sights_List[i][2]],\n",
    "                        radius=4,\n",
    "                        popup=Sights_List[i][0],\n",
    "                        fill_color='blue', color = 'blue', fill_opacity=0.7\n",
    "                       ).add_to(Map_Points_Of_Interest) \n",
    "Map_Points_Of_Interest"
   ]
  },
  {
   "cell_type": "markdown",
   "metadata": {},
   "source": [
    "I create the lists 'SlotName_Lat_Long' and 'Sight_Name_Lat_Long' where they have the names and coordinates of the Sector and the Sights respectively."
   ]
  },
  {
   "cell_type": "code",
   "execution_count": null,
   "metadata": {},
   "outputs": [],
   "source": [
    "Sight_Name=Sights['Sight'].values.tolist()\n",
    "Sight_Lat=Sights['Latitude'].values.tolist()\n",
    "Sight_Long=Sights['Longitude'].values.tolist()\n",
    "Sight_Name_Lat_Long=[[Sight_Name],Sight_Lat,Sight_Long]\n",
    "Sights"
   ]
  },
  {
   "cell_type": "markdown",
   "metadata": {},
   "source": [
    "I then create the file that describes the distances of each sector from the various points of interest"
   ]
  },
  {
   "cell_type": "code",
   "execution_count": null,
   "metadata": {},
   "outputs": [],
   "source": [
    "Column_Names=['Slot_id','Adress','Mean','Start','End','Capacity','Full_adress','Latitude','Longitude']\n",
    "Parking_Slots=pd.read_csv(Project_Path+ '/Data/Parkink_Slot_Proccesed.csv',sep=',', names=Column_Names)\n",
    "Latitude= Parking_Slots['Latitude'].values.tolist()\n",
    "Longitude=Parking_Slots['Longitude'].values.tolist()\n",
    "Slot_Id=Parking_Slots['Slot_id'].values.tolist()"
   ]
  },
  {
   "cell_type": "code",
   "execution_count": null,
   "metadata": {},
   "outputs": [],
   "source": [
    "Ds=[]\n",
    "Distance=[]\n",
    "\n",
    "for j in range(0,len(Latitude)):\n",
    "    Ds=[]\n",
    "    for i in range (0,len(Sight_Lat)):\n",
    "        d= geopy.distance.geodesic((Latitude[j],Longitude[j]), (Sight_Lat[i],Sight_Long[i])).m\n",
    "        Ds.append(int(d))\n",
    "    Distance.append(Ds)\n",
    "Distance_Data=pd.DataFrame(Distance,columns=Sight_Name)\n",
    "Distance_Data.insert (0, \"Slot_id\", Slot_Id)\n",
    "Distance_Data.to_csv(Project_Path+ '/Data/Distance.csv')\n",
    "Distance_Data"
   ]
  }
 ],
 "metadata": {
  "kernelspec": {
   "display_name": "firstEnv",
   "language": "python",
   "name": "firstenv"
  },
  "language_info": {
   "codemirror_mode": {
    "name": "ipython",
    "version": 3
   },
   "file_extension": ".py",
   "mimetype": "text/x-python",
   "name": "python",
   "nbconvert_exporter": "python",
   "pygments_lexer": "ipython3",
   "version": "3.8.12"
  }
 },
 "nbformat": 4,
 "nbformat_minor": 1
}
